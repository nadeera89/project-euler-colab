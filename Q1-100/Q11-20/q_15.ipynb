{
  "nbformat": 4,
  "nbformat_minor": 0,
  "metadata": {
    "colab": {
      "provenance": [],
      "toc_visible": true,
      "authorship_tag": "ABX9TyPk4ILTgZNU2Nf1SFEuKRnq",
      "include_colab_link": true
    },
    "kernelspec": {
      "name": "python3",
      "display_name": "Python 3"
    },
    "language_info": {
      "name": "python"
    }
  },
  "cells": [
    {
      "cell_type": "markdown",
      "metadata": {
        "id": "view-in-github",
        "colab_type": "text"
      },
      "source": [
        "<a href=\"https://colab.research.google.com/github/nadeera89/project-euler-colab/blob/main/Q1-100/Q11-20/q_15.ipynb\" target=\"_parent\"><img src=\"https://colab.research.google.com/assets/colab-badge.svg\" alt=\"Open In Colab\"/></a>"
      ]
    },
    {
      "cell_type": "markdown",
      "source": [
        "**15. Lattice Paths**\n",
        "\n",
        "Starting in the top left corner of a grid, and only being able to move to the right and down, there are exactly\n",
        "\n",
        "routes to the bottom right corner.\n",
        "\n",
        "How many such routes are there through a\n",
        "grid?"
      ],
      "metadata": {
        "id": "UhbawQub5Nz0"
      }
    },
    {
      "cell_type": "code",
      "source": [
        "import math\n",
        "\n",
        "routes = math.comb(40, 20)\n",
        "print(routes)"
      ],
      "metadata": {
        "colab": {
          "base_uri": "https://localhost:8080/"
        },
        "id": "pd0XE3Xb5V97",
        "outputId": "df8c9e1e-256d-4d3f-cde4-8b538801137b"
      },
      "execution_count": 1,
      "outputs": [
        {
          "output_type": "stream",
          "name": "stdout",
          "text": [
            "137846528820\n"
          ]
        }
      ]
    }
  ]
}