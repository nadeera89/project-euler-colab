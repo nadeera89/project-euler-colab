{
  "nbformat": 4,
  "nbformat_minor": 0,
  "metadata": {
    "colab": {
      "provenance": [],
      "toc_visible": true,
      "authorship_tag": "ABX9TyPCSe/CNfzy24AyOZEC2oVa",
      "include_colab_link": true
    },
    "kernelspec": {
      "name": "python3",
      "display_name": "Python 3"
    },
    "language_info": {
      "name": "python"
    }
  },
  "cells": [
    {
      "cell_type": "markdown",
      "metadata": {
        "id": "view-in-github",
        "colab_type": "text"
      },
      "source": [
        "<a href=\"https://colab.research.google.com/github/nadeera89/project-euler-colab/blob/main/Q1-100/Q11-20/q_19.ipynb\" target=\"_parent\"><img src=\"https://colab.research.google.com/assets/colab-badge.svg\" alt=\"Open In Colab\"/></a>"
      ]
    },
    {
      "cell_type": "markdown",
      "source": [
        "**19. Counting Sundays**\n",
        "\n",
        "You are given the following information, but you may prefer to do some research for yourself.\n",
        "\n",
        "    1 Jan 1900 was a Monday.\n",
        "    Thirty days has September,\n",
        "    April, June and November.\n",
        "    All the rest have thirty-one,\n",
        "    Saving February alone,\n",
        "    Which has twenty-eight, rain or shine.\n",
        "    And on leap years, twenty-nine.\n",
        "    A leap year occurs on any year evenly divisible by 4, but not on a century unless it is divisible by 400.\n",
        "\n",
        "How many Sundays fell on the first of the month during the twentieth century (1 Jan 1901 to 31 Dec 2000)?\n"
      ],
      "metadata": {
        "id": "1Znglx3c4o2A"
      }
    },
    {
      "cell_type": "code",
      "source": [
        "dates_per_month = [31, 28, 31, 30, 31, 30, 31, 31, 30, 31, 30, 31]\n",
        "dates_per_month_leap = [31, 29, 31, 30, 31, 30, 31, 31, 30, 31, 30, 31]"
      ],
      "metadata": {
        "collapsed": true,
        "id": "oFbDZ0PU42hs"
      },
      "execution_count": 24,
      "outputs": []
    },
    {
      "cell_type": "code",
      "source": [
        "def is_leap_year(year):\n",
        "  if year%400 == 0:\n",
        "    return True\n",
        "  elif year%100 == 0:\n",
        "    return False\n",
        "  elif year%4 == 0:\n",
        "    return True\n",
        "  else:\n",
        "    return False"
      ],
      "metadata": {
        "id": "4_5i_wMbzir9"
      },
      "execution_count": 25,
      "outputs": []
    },
    {
      "cell_type": "code",
      "source": [
        "def get_start_date_of_year(year):\n",
        "  count = 0\n",
        "\n",
        "  for i in range(1900, year, 1):\n",
        "    if is_leap_year(i):\n",
        "      count += 366\n",
        "    else:\n",
        "      count += 365\n",
        "\n",
        "  return count%7"
      ],
      "metadata": {
        "id": "pnpcLRwTy_rn"
      },
      "execution_count": 26,
      "outputs": []
    },
    {
      "cell_type": "code",
      "source": [
        "start_date = get_start_date_of_year(1901)\n",
        "number_of_sundays = 1 if start_date == 6 else 0\n",
        "\n",
        "for year in range(1901, 2001, 1):\n",
        "  months = dates_per_month_leap if is_leap_year(year) else dates_per_month\n",
        "\n",
        "  for month in months:\n",
        "    start_date = (start_date + month)%7\n",
        "    if start_date == 6:\n",
        "      number_of_sundays += 1\n",
        "\n",
        "print(number_of_sundays)"
      ],
      "metadata": {
        "colab": {
          "base_uri": "https://localhost:8080/"
        },
        "id": "TyOF08VB0ABI",
        "outputId": "95e3a3d0-ae7a-4bb7-e8a6-75bf96d49c76"
      },
      "execution_count": 27,
      "outputs": [
        {
          "output_type": "stream",
          "name": "stdout",
          "text": [
            "171\n"
          ]
        }
      ]
    }
  ]
}