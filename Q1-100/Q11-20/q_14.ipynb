{
  "nbformat": 4,
  "nbformat_minor": 0,
  "metadata": {
    "colab": {
      "provenance": [],
      "toc_visible": true,
      "authorship_tag": "ABX9TyPbaDAIJXkmMYExBgE4hyW8",
      "include_colab_link": true
    },
    "kernelspec": {
      "name": "python3",
      "display_name": "Python 3"
    },
    "language_info": {
      "name": "python"
    }
  },
  "cells": [
    {
      "cell_type": "markdown",
      "metadata": {
        "id": "view-in-github",
        "colab_type": "text"
      },
      "source": [
        "<a href=\"https://colab.research.google.com/github/nadeera89/project-euler-colab/blob/main/Q1-100/Q11-20/q_14.ipynb\" target=\"_parent\"><img src=\"https://colab.research.google.com/assets/colab-badge.svg\" alt=\"Open In Colab\"/></a>"
      ]
    },
    {
      "cell_type": "markdown",
      "source": [
        "**14. Longest Collatz Sequence**\n",
        "\n",
        "The following iterative sequence is defined for the set of positive integers:\n",
        "\n",
        "(\n",
        "is even)\n",
        "(\n",
        "\n",
        "    is odd)\n",
        "\n",
        "Using the rule above and starting with\n",
        ", we generate the following sequence:\n",
        "It can be seen that this sequence (starting at and finishing at ) contains terms. Although it has not been proved yet (Collatz Problem), it is thought that all starting numbers finish at\n",
        "\n",
        ".\n",
        "\n",
        "Which starting number, under one million, produces the longest chain?\n",
        "\n",
        "NOTE: Once the chain starts the terms are allowed to go above one million."
      ],
      "metadata": {
        "id": "W_ZFyoU3IuEe"
      }
    },
    {
      "cell_type": "code",
      "source": [],
      "metadata": {
        "id": "SBT5nWc7I5Y4"
      },
      "execution_count": null,
      "outputs": []
    }
  ]
}