{
  "nbformat": 4,
  "nbformat_minor": 0,
  "metadata": {
    "colab": {
      "provenance": [],
      "toc_visible": true,
      "authorship_tag": "ABX9TyMIWJUWkM+ynHJhFYrLaV1j",
      "include_colab_link": true
    },
    "kernelspec": {
      "name": "python3",
      "display_name": "Python 3"
    },
    "language_info": {
      "name": "python"
    }
  },
  "cells": [
    {
      "cell_type": "markdown",
      "metadata": {
        "id": "view-in-github",
        "colab_type": "text"
      },
      "source": [
        "<a href=\"https://colab.research.google.com/github/nadeera89/project-euler-colab/blob/main/Q1-100/Q11-20/q_14.ipynb\" target=\"_parent\"><img src=\"https://colab.research.google.com/assets/colab-badge.svg\" alt=\"Open In Colab\"/></a>"
      ]
    },
    {
      "cell_type": "markdown",
      "source": [
        "**14. Longest Collatz Sequence**\n",
        "\n",
        "The following iterative sequence is defined for the set of positive integers:\n",
        "\n",
        "(\n",
        "is even)\n",
        "(\n",
        "\n",
        "    is odd)\n",
        "\n",
        "Using the rule above and starting with\n",
        ", we generate the following sequence:\n",
        "It can be seen that this sequence (starting at and finishing at ) contains terms. Although it has not been proved yet (Collatz Problem), it is thought that all starting numbers finish at\n",
        "\n",
        ".\n",
        "\n",
        "Which starting number, under one million, produces the longest chain?\n",
        "\n",
        "NOTE: Once the chain starts the terms are allowed to go above one million."
      ],
      "metadata": {
        "id": "W_ZFyoU3IuEe"
      }
    },
    {
      "cell_type": "code",
      "source": [
        "collatz_lengths = {}\n",
        "collatz_lengths[1] = 1"
      ],
      "metadata": {
        "id": "SBT5nWc7I5Y4"
      },
      "execution_count": 30,
      "outputs": []
    },
    {
      "cell_type": "code",
      "source": [
        "def get_collatz_length(n):\n",
        "  if (n != 1 and n not in collatz_lengths):\n",
        "    if (n % 2 == 0):\n",
        "      collatz_lengths[n] = get_collatz_length(n // 2) + 1\n",
        "    else:\n",
        "      collatz_lengths[n] = get_collatz_length(3 * n + 1) + 1\n",
        "  return collatz_lengths[n]"
      ],
      "metadata": {
        "id": "G70SFVyaK3YA"
      },
      "execution_count": 31,
      "outputs": []
    },
    {
      "cell_type": "code",
      "source": [
        "get_collatz_length(13)\n",
        "collatz_lengths"
      ],
      "metadata": {
        "colab": {
          "base_uri": "https://localhost:8080/"
        },
        "collapsed": true,
        "id": "hhBDzGueRpxg",
        "outputId": "c3fa6afd-9186-429b-97a8-7192568c9071"
      },
      "execution_count": 33,
      "outputs": [
        {
          "output_type": "execute_result",
          "data": {
            "text/plain": [
              "{1: 1, 2: 2, 4: 3, 8: 4, 16: 5, 5: 6, 10: 7, 3: 8, 20: 8, 40: 9, 13: 10}"
            ]
          },
          "metadata": {},
          "execution_count": 33
        }
      ]
    },
    {
      "cell_type": "code",
      "source": [
        "for i in range(2, 1_000_001):\n",
        "  get_collatz_length(i)"
      ],
      "metadata": {
        "id": "nyGh7UcJTmTj"
      },
      "execution_count": 38,
      "outputs": []
    },
    {
      "cell_type": "code",
      "source": [
        "max_key = max(collatz_lengths, key=collatz_lengths.get)\n",
        "print(max_key, collatz_lengths[max_key])"
      ],
      "metadata": {
        "colab": {
          "base_uri": "https://localhost:8080/"
        },
        "id": "RXZ5ucJ1aR7U",
        "outputId": "d9774025-8914-4c7d-a3c5-d927f8436b3b"
      },
      "execution_count": 44,
      "outputs": [
        {
          "output_type": "stream",
          "name": "stdout",
          "text": [
            "837799 525\n"
          ]
        }
      ]
    }
  ]
}