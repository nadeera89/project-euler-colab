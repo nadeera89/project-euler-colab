{
  "nbformat": 4,
  "nbformat_minor": 0,
  "metadata": {
    "colab": {
      "provenance": [],
      "toc_visible": true,
      "authorship_tag": "ABX9TyNFHDDaQp9Orq2skg1SQPYA",
      "include_colab_link": true
    },
    "kernelspec": {
      "name": "python3",
      "display_name": "Python 3"
    },
    "language_info": {
      "name": "python"
    }
  },
  "cells": [
    {
      "cell_type": "markdown",
      "metadata": {
        "id": "view-in-github",
        "colab_type": "text"
      },
      "source": [
        "<a href=\"https://colab.research.google.com/github/nadeera89/project-euler-colab/blob/main/Q1-100/Q11-20/q_17.ipynb\" target=\"_parent\"><img src=\"https://colab.research.google.com/assets/colab-badge.svg\" alt=\"Open In Colab\"/></a>"
      ]
    },
    {
      "cell_type": "markdown",
      "source": [
        "**17. Number Letter Counts**\n",
        "\n",
        "If the numbers to are written out in words: one, two, three, four, five, then there are\n",
        "\n",
        "letters used in total.\n",
        "\n",
        "If all the numbers from\n",
        "to\n",
        "\n",
        "(one thousand) inclusive were written out in words, how many letters would be used?\n",
        "\n",
        "NOTE: Do not count spaces or hyphens. For example,\n",
        "(three hundred and forty-two) contains letters and (one hundred and fifteen) contains letters. The use of \"and\" when writing out numbers is in compliance with British usage."
      ],
      "metadata": {
        "id": "SdbeNtz3aAgC"
      }
    },
    {
      "cell_type": "code",
      "source": [
        "def number_to_words(n):\n",
        "    ones = [\"\", \"one\", \"two\", \"three\", \"four\", \"five\", \"six\", \"seven\", \"eight\", \"nine\"]\n",
        "    teens = [\"ten\", \"eleven\", \"twelve\", \"thirteen\", \"fourteen\", \"fifteen\", \"sixteen\",\n",
        "             \"seventeen\", \"eighteen\", \"nineteen\"]\n",
        "    tens = [\"\", \"\", \"twenty\", \"thirty\", \"forty\", \"fifty\", \"sixty\", \"seventy\", \"eighty\", \"ninety\"]\n",
        "\n",
        "    if n == 1000:\n",
        "        return \"one thousand\"\n",
        "\n",
        "    word = \"\"\n",
        "\n",
        "    if n >= 100:\n",
        "        word += ones[n // 100] + \" hundred\"\n",
        "        if n % 100 != 0:\n",
        "            word += \" and \"\n",
        "        n %= 100\n",
        "\n",
        "    if n >= 20:\n",
        "        word += tens[n // 10]\n",
        "        if n % 10 != 0:\n",
        "            word += \"-\" + ones[n % 10]\n",
        "    elif n >= 10:\n",
        "        word += teens[n - 10]\n",
        "    elif n > 0:\n",
        "        word += ones[n]\n",
        "\n",
        "    return word\n",
        "\n",
        "# Count letters\n",
        "total_letters = 0\n",
        "\n",
        "for i in range(1, 1001):\n",
        "    words = number_to_words(i)\n",
        "    cleaned = words.replace(\" \", \"\").replace(\"-\", \"\")\n",
        "    total_letters += len(cleaned)\n",
        "\n",
        "print(\"Total letters from 1 to 1000:\", total_letters)\n"
      ],
      "metadata": {
        "colab": {
          "base_uri": "https://localhost:8080/"
        },
        "id": "RBtyO0gTZ3sz",
        "outputId": "02ae9f32-e759-43cd-f362-753d9fc63285"
      },
      "execution_count": 18,
      "outputs": [
        {
          "output_type": "stream",
          "name": "stdout",
          "text": [
            "Total letters from 1 to 1000: 21124\n"
          ]
        }
      ]
    }
  ]
}